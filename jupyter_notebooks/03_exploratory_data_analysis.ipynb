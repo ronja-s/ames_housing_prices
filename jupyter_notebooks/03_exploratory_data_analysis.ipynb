{
 "cells": [
  {
   "cell_type": "markdown",
   "metadata": {},
   "source": [
    "# Exploratory data analysis\n",
    "In this notebook, we will perform an extensive exploratory data analysis in order to get more insight into the data. This will be useful for more elaborate preprocessing."
   ]
  },
  {
   "cell_type": "markdown",
   "metadata": {},
   "source": [
    "### Table of contents\n",
    "* [Load data](#load)\n",
    "* [First data inspection](#inspection)\n",
    "* [Faulty data](#faulty)\n",
    "* [Missing data](#missing)\n",
    "* [Categorical variables](#categorical)\n",
    "* [Distributions](#distributions)\n",
    "* [Quantitative relationships & feature importance](#quantitative)\n",
    "* [Qualitative relationships](#qualitative)\n",
    "* [Outliers](#outliers)\n",
    "* [Clusters](#clusters)"
   ]
  },
  {
   "cell_type": "code",
   "execution_count": 4,
   "metadata": {},
   "outputs": [],
   "source": [
    "import pandas as pd\n",
    "\n",
    "train_data_file = \"../data/train.csv\"\n",
    "test_data_file = \"../data/test.csv\"\n",
    "target_col = \"SalePrice\""
   ]
  },
  {
   "cell_type": "markdown",
   "metadata": {},
   "source": [
    "## Load data <a class=\"anchor\"  id=\"load\"></a>"
   ]
  },
  {
   "cell_type": "code",
   "execution_count": 11,
   "metadata": {},
   "outputs": [],
   "source": [
    "train_df = pd.read_csv(train_data_file)\n",
    "train_df.set_index(\"Id\", inplace=True)\n",
    "y_train = train_df[target_col]\n",
    "X_train = train_df.drop(columns=[target_col])\n",
    "\n",
    "X_test = pd.read_csv(test_data_file)\n",
    "X_test.set_index(\"Id\", inplace=True)\n",
    "\n",
    "X = pd.concat([X_train, X_test])"
   ]
  },
  {
   "cell_type": "markdown",
   "metadata": {},
   "source": [
    "## First data inspection <a class=\"anchor\"  id=\"inspection\"></a>\n",
    "Questions: What is the size of data? What are the variable data types (numerical, categorical)? Basic statistics?"
   ]
  },
  {
   "cell_type": "markdown",
   "metadata": {},
   "source": [
    "## Faulty data <a class=\"anchor\"  id=\"faulty\"></a>\n",
    "Questions: Does the feature’s data type make sense? Is a numerical feature actually categorical or vice versa? Do all values of one feature have the same data type? Are all values in the expected range? If multiple features are connected, is there any inconsistency? Are there duplicated rows or columns?"
   ]
  },
  {
   "cell_type": "markdown",
   "metadata": {},
   "source": [
    "## Missing data <a class=\"anchor\"  id=\"missing\"></a>\n",
    "Questions: How is missing data represented? How much data is missing? Do missing values actually mean a specific value?"
   ]
  },
  {
   "cell_type": "markdown",
   "metadata": {},
   "source": [
    "## Categorical variables <a class=\"anchor\"  id=\"categorical\"></a>\n",
    "Questions: Is there an ordering in the categories? Are there special characters (non ASCII)?"
   ]
  },
  {
   "cell_type": "markdown",
   "metadata": {},
   "source": [
    "## Distributions <a class=\"anchor\"  id=\"distributions\"></a>\n",
    "Questions: Is the feature continuous or discrete? If discrete: How many distinct values are there? Is the distribution similar to a normal distribution? Is the distribution skewed? Are there particularly frequent or rare values? Are there inf values? Do the features have a similar range? Are the assumptions of the ML algorithm you want to use met?"
   ]
  },
  {
   "cell_type": "markdown",
   "metadata": {},
   "source": [
    "## Quantitative relationships & feature importance <a class=\"anchor\"  id=\"quantitative\"></a>\n",
    "Questions: Are there collinear variables? Which features are most predictive?"
   ]
  },
  {
   "cell_type": "markdown",
   "metadata": {},
   "source": [
    "## Qualitative relationships <a class=\"anchor\"  id=\"qualitative\"></a>\n",
    "Questions: Is there a clear relationship of a feature with the target that has not been caught by the quantitative analysis? Is a transformation of a feature helpful with your ML algorithm?"
   ]
  },
  {
   "cell_type": "markdown",
   "metadata": {},
   "source": [
    "## Outliers <a class=\"anchor\"  id=\"outliers\"></a>\n",
    "Questions: Are there outliers? Are those outliers misleading the prediction?"
   ]
  },
  {
   "cell_type": "markdown",
   "metadata": {},
   "source": [
    "## Clusters <a class=\"anchor\"  id=\"clusters\"></a>\n",
    "Questions: Are there clear clusters in the data that should be predicted separately?"
   ]
  }
 ],
 "metadata": {
  "kernelspec": {
   "display_name": ".venv",
   "language": "python",
   "name": "python3"
  },
  "language_info": {
   "codemirror_mode": {
    "name": "ipython",
    "version": 3
   },
   "file_extension": ".py",
   "mimetype": "text/x-python",
   "name": "python",
   "nbconvert_exporter": "python",
   "pygments_lexer": "ipython3",
   "version": "3.10.3"
  },
  "orig_nbformat": 4
 },
 "nbformat": 4,
 "nbformat_minor": 2
}
